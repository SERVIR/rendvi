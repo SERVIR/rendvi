{
 "cells": [
  {
   "cell_type": "code",
   "execution_count": null,
   "metadata": {},
   "outputs": [],
   "source": [
    "%pylab inline"
   ]
  },
  {
   "cell_type": "code",
   "execution_count": null,
   "metadata": {},
   "outputs": [],
   "source": [
    "import ee\n",
    "ee.Initialize()\n",
    "\n",
    "import rendvi\n",
    "from rendvi import eeCollections\n",
    "import datetime"
   ]
  },
  {
   "cell_type": "code",
   "execution_count": null,
   "metadata": {},
   "outputs": [],
   "source": [
    "mod = eeCollections.MOD09GQ['imageCollection']\n",
    "mod1km = eeCollections.MOD09GA['imageCollection']"
   ]
  },
  {
   "cell_type": "code",
   "execution_count": null,
   "metadata": {},
   "outputs": [],
   "source": [
    "masked = rendvi.Masking.applyModis(mod,mod1km)\n",
    "withNdvi = rendvi.Utils.addNDBand(masked,\n",
    "                                   b1=eeCollections.MOD09GQ['nir'],\n",
    "                                   b2=eeCollections.MOD09GQ['red'],\n",
    "                                   outName='ndvi')"
   ]
  },
  {
   "cell_type": "code",
   "execution_count": null,
   "metadata": {},
   "outputs": [],
   "source": [
    "# time information to handle image collection\n",
    "iniYear = 2000\n",
    "endYear = 2019\n",
    "\n",
    "# convert start and end dates to EE date objects\n",
    "eeIni = ee.Date.fromYMD(iniYear,1,1,)\n",
    "eeEnd = ee.Date.fromYMD(endYear,12,31)\n",
    "\n",
    "# make list of years for loop processing\n",
    "years = ee.List.sequence(iniYear,endYear)"
   ]
  },
  {
   "cell_type": "code",
   "execution_count": null,
   "metadata": {},
   "outputs": [],
   "source": [
    "full = rendvi.Rendvi(withNdvi,'ndvi')"
   ]
  },
  {
   "cell_type": "code",
   "execution_count": null,
   "metadata": {},
   "outputs": [],
   "source": [
    "dekads = full.getDekadImages(years,includeQa=False)"
   ]
  },
  {
   "cell_type": "code",
   "execution_count": null,
   "metadata": {},
   "outputs": [],
   "source": [
    "climo = dekads.calcClimatology()"
   ]
  },
  {
   "cell_type": "code",
   "execution_count": null,
   "metadata": {},
   "outputs": [],
   "source": [
    "landMask = ee.Image(\"users/kelmarkert/public/landMask\").select(\"land\")\n",
    "climo = climo.map(lambda img: img.updateMask(landMask))"
   ]
  },
  {
   "cell_type": "code",
   "execution_count": null,
   "metadata": {},
   "outputs": [],
   "source": [
    "exportAsset = \"projects/servir-e-sa/reNDVI_climatology\"\n",
    "exportRegion = ee.Geometry.Rectangle([-180,-60,180,85],'epsg:4326',False)\n",
    "metadataDict = dict(contact=\"kel.markert@nasa.gov\",scale=0.0001,offset=0,version=0)\n",
    "pyramidingDict = dict(ndvi_mean=\"mean\",ndvi_std=\"mean\",count=\"mode\")"
   ]
  },
  {
   "cell_type": "code",
   "execution_count": null,
   "metadata": {},
   "outputs": [],
   "source": [
    "rendvi.batchExport(climo.limit(30,\"system:time_start\"), \n",
    "                   exportRegion, \n",
    "                   exportAsset, \n",
    "                   prefix=\"MOD_NDVI_CLIMATOLOGY\", \n",
    "                   suffix=\"v0\", \n",
    "                   scale=250, \n",
    "                   crs='EPSG:4326',\n",
    "                   metadata=metadataDict, \n",
    "                   pyramiding=pyramidingDict\n",
    "                  )"
   ]
  },
  {
   "cell_type": "code",
   "execution_count": null,
   "metadata": {},
   "outputs": [],
   "source": []
  }
 ],
 "metadata": {
  "kernelspec": {
   "display_name": "Python (geo)",
   "language": "python",
   "name": "geo"
  },
  "language_info": {
   "codemirror_mode": {
    "name": "ipython",
    "version": 3
   },
   "file_extension": ".py",
   "mimetype": "text/x-python",
   "name": "python",
   "nbconvert_exporter": "python",
   "pygments_lexer": "ipython3",
   "version": "3.7.6"
  }
 },
 "nbformat": 4,
 "nbformat_minor": 4
}
