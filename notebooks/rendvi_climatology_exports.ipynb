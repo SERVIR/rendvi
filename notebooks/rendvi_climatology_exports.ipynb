{
 "cells": [
  {
   "cell_type": "code",
   "execution_count": null,
   "metadata": {},
   "outputs": [],
   "source": [
    "# import packages\n",
    "import ee\n",
    "ee.Initialize()\n",
    "\n",
    "import rendvi\n",
    "from rendvi import eeCollections\n",
    "import datetime"
   ]
  },
  {
   "cell_type": "markdown",
   "metadata": {},
   "source": [
    "reNDVI supports the processing of both MODIS and VIIRS. The processing is more or less the same, the only difference is how the masking is applied. The follow code blocks provide the preprocessing for MODIS and VIIRS, so comment the block of the product to omit."
   ]
  },
  {
   "cell_type": "code",
   "execution_count": null,
   "metadata": {},
   "outputs": [],
   "source": [
    "# preprocessing for MODIS\n",
    "mod = eeCollections.MOD09GQ['imageCollection']\n",
    "mod1km = eeCollections.MOD09GA['imageCollection']\n",
    "\n",
    "masked = rendvi.Masking.applyModis(mod,mod1km)\n",
    "withNdvi = rendvi.Utils.addNDBand(\n",
    "    masked,\n",
    "    b1=eeCollections.MOD09GQ['nir'],\n",
    "    b2=eeCollections.MOD09GQ['red'],\n",
    "    outName='ndvi'\n",
    ")"
   ]
  },
  {
   "cell_type": "code",
   "execution_count": null,
   "metadata": {},
   "outputs": [],
   "source": [
    "# preprocessing for VIIRS\n",
    "viirs = eeCollections.VNP09GA['imageCollection']\n",
    "\n",
    "masked = rendvi.Masking.applyViirs(viirs)\n",
    "withNdvi = rendvi.Utils.addNDBand(\n",
    "    masked,\n",
    "    b1=eeCollections.VNP09GA['nir'],\n",
    "    b2=eeCollections.VNP09GA['red'],\n",
    "    outName='ndvi'\n",
    ")"
   ]
  },
  {
   "cell_type": "code",
   "execution_count": null,
   "metadata": {},
   "outputs": [],
   "source": [
    "# time information to handle image collection\n",
    "iniYear = 2000\n",
    "endYear = 2019\n",
    "\n",
    "# convert start and end dates to EE date objects\n",
    "eeIni = ee.Date.fromYMD(iniYear,1,1,)\n",
    "eeEnd = ee.Date.fromYMD(endYear,12,31)\n",
    "\n",
    "# make list of years for loop processing\n",
    "years = ee.List.sequence(iniYear,endYear)"
   ]
  },
  {
   "cell_type": "code",
   "execution_count": null,
   "metadata": {},
   "outputs": [],
   "source": [
    "# instantiate a rendvi data processing object\n",
    "# this has special methods for processing the data\n",
    "full = rendvi.Rendvi(withNdvi,'ndvi')"
   ]
  },
  {
   "cell_type": "code",
   "execution_count": null,
   "metadata": {},
   "outputs": [],
   "source": [
    "# calculate the dekad imagery from the full collection\n",
    "dekads = full.getDekadImages(includeQa=False)"
   ]
  },
  {
   "cell_type": "code",
   "execution_count": null,
   "metadata": {},
   "outputs": [],
   "source": [
    "# calulcate the climatology statistics for each dekad\n",
    "climo = dekads.calcClimatology()"
   ]
  },
  {
   "cell_type": "code",
   "execution_count": null,
   "metadata": {},
   "outputs": [],
   "source": [
    "# read in a land/water mask to only include ndvi from land masses\n",
    "landMask = ee.Image(\"users/kelmarkert/public/landMask\").select(\"land\")\n",
    "climo = climo.map(lambda img: img.updateMask(landMask))"
   ]
  },
  {
   "cell_type": "code",
   "execution_count": null,
   "metadata": {},
   "outputs": [],
   "source": [
    "# change the path to theimage collection for the climatology imagery\n",
    "exportAsset = \"projects/servir-e-sa/reNDVI_climatology\""
   ]
  },
  {
   "cell_type": "code",
   "execution_count": null,
   "metadata": {},
   "outputs": [],
   "source": [
    "# change the bounding box coordinates to the region for export\n",
    "# coordinates should be W,S,E,N\n",
    "# the following is the bounding box for Kenya\n",
    "bbox = [33,-5,42,6]"
   ]
  },
  {
   "cell_type": "code",
   "execution_count": null,
   "metadata": {},
   "outputs": [],
   "source": [
    "# change the data contact to the individual responsible for \n",
    "# managing the data\n",
    "data_contact = \"username@nasa.gov\""
   ]
  },
  {
   "cell_type": "code",
   "execution_count": null,
   "metadata": {},
   "outputs": [],
   "source": [
    "# change the name of the data name prefix (optional)\n",
    "data_prefix = \"MOD_NDVI_CLIMATOLOGY\""
   ]
  },
  {
   "cell_type": "code",
   "execution_count": null,
   "metadata": {},
   "outputs": [],
   "source": [
    "# change to the version/release number of interest (optional)\n",
    "version_number = 0"
   ]
  },
  {
   "cell_type": "code",
   "execution_count": null,
   "metadata": {},
   "outputs": [],
   "source": [
    "# create metadata and pyramiding policies for the data\n",
    "metadataDict = dict(contact=data_contact,scale=0.0001,offset=0,version=version_number)\n",
    "pyramidingDict = dict(ndvi_mean=\"mean\",ndvi_std=\"mean\",count=\"mode\")\n",
    "exportRegion = ee.Geometry.Rectangle(bbox,'epsg:4326',False)"
   ]
  },
  {
   "cell_type": "code",
   "execution_count": null,
   "metadata": {},
   "outputs": [],
   "source": [
    "rendvi.batchExport(climo, \n",
    "                   exportRegion, \n",
    "                   exportAsset, \n",
    "                   prefix=data_prefix, \n",
    "                   suffix=f\"v{version_number}\", \n",
    "                   scale=250, \n",
    "                   crs='EPSG:4326',\n",
    "                   metadata=metadataDict, \n",
    "                   pyramiding=pyramidingDict\n",
    "                  )"
   ]
  },
  {
   "cell_type": "code",
   "execution_count": null,
   "metadata": {},
   "outputs": [],
   "source": []
  }
 ],
 "metadata": {
  "kernelspec": {
   "display_name": "Python (rendvi)",
   "language": "python",
   "name": "rendvi"
  },
  "language_info": {
   "codemirror_mode": {
    "name": "ipython",
    "version": 3
   },
   "file_extension": ".py",
   "mimetype": "text/x-python",
   "name": "python",
   "nbconvert_exporter": "python",
   "pygments_lexer": "ipython3",
   "version": "3.9.12"
  }
 },
 "nbformat": 4,
 "nbformat_minor": 4
}
