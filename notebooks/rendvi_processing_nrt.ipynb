{
 "cells": [
  {
   "cell_type": "code",
   "execution_count": null,
   "metadata": {},
   "outputs": [],
   "source": [
    "import datetime\n",
    "from pprint import pprint"
   ]
  },
  {
   "cell_type": "code",
   "execution_count": null,
   "metadata": {},
   "outputs": [],
   "source": [
    "import ee\n",
    "ee.Initialize()\n",
    "import rendvi\n",
    "from rendvi import eeCollections"
   ]
  },
  {
   "cell_type": "markdown",
   "metadata": {},
   "source": [
    "The exporting of the reNDVI data is very memory intensive because of the time series processing. Therefore, the exports should be done in batches of smaller time ranges. Meaning that the user should manually change the start and end years for the processing. The only thing to be aware of is that two dekads at the beginning and end of the time periods are needed to perform the despiking/smoothing.\n",
    "\n",
    "Note here we have a longer time period, this is because we will use historical data to forecast out what we expect from historically observed. Typically a ten year period is good enough to calculate the trends but not long enough to givememory errors. This will be trimmed down to a more relevant time period for despiking/smoothing and export."
   ]
  },
  {
   "cell_type": "code",
   "execution_count": null,
   "metadata": {},
   "outputs": [],
   "source": [
    "# time information to handle image collection\n",
    "iniYear = 2015\n",
    "endYear = 2020\n",
    "\n",
    "today = ee.Date(datetime.datetime.now().strftime('%Y-%m-%d')).advance(-7,'day')\n",
    "\n",
    "# convert start and end dates to EE date objects\n",
    "eeIni = ee.Date.fromYMD(iniYear,1,1,)\n",
    "eeEnd = ee.Date.fromYMD(endYear,12,31)\n",
    "\n",
    "# make list of years for loop processing\n",
    "years = ee.List.sequence(iniYear,endYear)"
   ]
  },
  {
   "cell_type": "markdown",
   "metadata": {},
   "source": [
    "reNDVI supports the processing of both MODIS and VIIRS. The processing is more or less the same, the only difference is how the masking is applied. The follow code blocks provide the preprocessing for MODIS and VIIRS, so comment the block of the product to omit."
   ]
  },
  {
   "cell_type": "code",
   "execution_count": null,
   "metadata": {},
   "outputs": [],
   "source": [
    "mod = eeCollections.MOD09GQ['imageCollection']\n",
    "mod1km = eeCollections.MOD09GA['imageCollection']\n",
    "\n",
    "masked = rendvi.Masking.applyModis(mod,mod1km)\n",
    "withNdvi = rendvi.Utils.addNDBand(\n",
    "    masked,\n",
    "    b1=eeCollections.MOD09GQ['nir'],\n",
    "    b2=eeCollections.MOD09GQ['red'],\n",
    "    outName='ndvi'\n",
    ").filterDate(eeIni,eeEnd)"
   ]
  },
  {
   "cell_type": "code",
   "execution_count": null,
   "metadata": {},
   "outputs": [],
   "source": [
    "# preprocessing for VIIRS\n",
    "viirs = eeCollections.VNP09GA['imageCollection']\n",
    "\n",
    "masked = rendvi.Masking.applyViirs(viirs)\n",
    "withNdvi = rendvi.Utils.addNDBand(\n",
    "    masked,\n",
    "    b1=eeCollections.VNP09GA['nir'],\n",
    "    b2=eeCollections.VNP09GA['red'],\n",
    "    outName='ndvi'\n",
    ").filterDate(eeIni,eeEnd)"
   ]
  },
  {
   "cell_type": "code",
   "execution_count": null,
   "metadata": {},
   "outputs": [],
   "source": [
    "# instantiate a rendvi data processing object\n",
    "# this has special methods for processing the data\n",
    "full = rendvi.Rendvi(withNdvi,'ndvi')"
   ]
  },
  {
   "cell_type": "code",
   "execution_count": null,
   "metadata": {},
   "outputs": [],
   "source": [
    "# calculate the dekad imagery from the full collection\n",
    "dekads = full.getDekadImages(includeQa=True)"
   ]
  },
  {
   "cell_type": "code",
   "execution_count": null,
   "metadata": {},
   "outputs": [],
   "source": [
    "# load in the climatology data for the back fill process\n",
    "climo = ee.ImageCollection(\"projects/servir-e-sa/rangelands/reNDVI_climatology_africa\")"
   ]
  },
  {
   "cell_type": "code",
   "execution_count": null,
   "metadata": {},
   "outputs": [],
   "source": [
    "# apply despiking process\n",
    "despiked = dekads.applyDespike(window=30,step=10)"
   ]
  },
  {
   "cell_type": "markdown",
   "metadata": {},
   "source": [
    "For the real-time processing of the data we will use a harmonic model to provide the data for the despiking and Before applying the despike and smoothing algorithms, "
   ]
  },
  {
   "cell_type": "code",
   "execution_count": null,
   "metadata": {},
   "outputs": [],
   "source": [
    "# import the forecasting module\n",
    "from rendvi import forecast"
   ]
  },
  {
   "cell_type": "code",
   "execution_count": null,
   "metadata": {},
   "outputs": [],
   "source": [
    "# instantiate an object to fit and predict the forecast\n",
    "# uses 3 harmonic cycles here. Kenya has two rainy seasons\n",
    "# add additional cycle for model fitting\n",
    "fm = forecast.Harmonics(nCycles=3)"
   ]
  },
  {
   "cell_type": "code",
   "execution_count": null,
   "metadata": {
    "tags": []
   },
   "outputs": [],
   "source": [
    "# fit the forecast on the despiked data\n",
    "fm.fit(despiked)"
   ]
  },
  {
   "cell_type": "code",
   "execution_count": null,
   "metadata": {},
   "outputs": [],
   "source": [
    "# set the start time and end time to forecast ndvi\n",
    "# based on the harmonic model\n",
    "# typically a range of 60 days (6 dekads) will be good\n",
    "forecastStart = \"\"\n",
    "forecastEnd = \"\""
   ]
  },
  {
   "cell_type": "code",
   "execution_count": null,
   "metadata": {},
   "outputs": [],
   "source": [
    "# get an empty collection of future times for prediction\n",
    "futureColl = fm.getDummyCollection(forecastStart, forecastEnd)"
   ]
  },
  {
   "cell_type": "code",
   "execution_count": null,
   "metadata": {},
   "outputs": [],
   "source": [
    "# apply prediction on in the future\n",
    "prediction = fm.predict(futureColl)"
   ]
  },
  {
   "cell_type": "code",
   "execution_count": null,
   "metadata": {},
   "outputs": [],
   "source": [
    "# get the last 60 days of the observed \n",
    "nrtcoll = withNdvi.limit(60, \"system:time_start\", False).merge(prediction)"
   ]
  },
  {
   "cell_type": "code",
   "execution_count": null,
   "metadata": {},
   "outputs": [],
   "source": [
    "# instantiate a new rendvi data processing object\n",
    "# this has the forecast data appended\n",
    "full_forecast = rendvi.Rendvi(nrtcoll,'ndvi')"
   ]
  },
  {
   "cell_type": "code",
   "execution_count": null,
   "metadata": {},
   "outputs": [],
   "source": [
    "# apply backfill algorithm using climatology\n",
    "backFilled = despiked.climatologyBackFill(full_forecast,keepBandPattern=\"^(de|pct|nClear).*\")"
   ]
  },
  {
   "cell_type": "code",
   "execution_count": null,
   "metadata": {},
   "outputs": [],
   "source": [
    "# apply spatial smoothing process (optional)\n",
    "# this looks are areas of discontinuity, pixels > 1.5 std from moving window mean\n",
    "# and smooths. This makes the back filled data more spatially consistent with others\n",
    "kernel = ee.Kernel.square(7.5,\"pixels\")\n",
    "spatialSmoothed = backFilled.spatialSmoothing(kernel,zThreshold=1,keepBandPattern=\"^(clima|de|pct|nClear|t).*\")"
   ]
  },
  {
   "cell_type": "code",
   "execution_count": null,
   "metadata": {},
   "outputs": [],
   "source": [
    "# apply moving window smoothing algorithm in time\n",
    "smoothed = spatialSmoothed.applySmoothing(window=50,keepBandPattern=\"^(clima|de|pct|nClear|sp).*\")"
   ]
  },
  {
   "cell_type": "code",
   "execution_count": null,
   "metadata": {},
   "outputs": [],
   "source": [
    "# function to post-process the data into storage efficient formats\n",
    "# and mask out ocean areas\n",
    "def formatOutput(img):\n",
    "    ndvi = img.select('ndvi').multiply(10000).int16()\n",
    "    others = img.select('^(clima|de|pct|sp|tem).*').multiply(100).uint8()\n",
    "    \n",
    "    return ee.Image.cat([ndvi,others]).updateMask(landMask)\\\n",
    "        .set('system:time_start',img.date().millis())\n",
    "\n"
   ]
  },
  {
   "cell_type": "code",
   "execution_count": null,
   "metadata": {},
   "outputs": [],
   "source": [
    "# read in a land/water mask and apply post processing function\n",
    "landMask = ee.Image(\"users/kelmarkert/public/landMask\").select(\"land\")\n",
    "outputs = smoothed.imageCollection.filterDate(\"2007-02-01\",\"2007-03-21\").map(formatOutput).sort('system:time_start')"
   ]
  },
  {
   "cell_type": "code",
   "execution_count": null,
   "metadata": {},
   "outputs": [],
   "source": [
    "# change the path to theimage collection for the climatology imagery\n",
    "exportAsset = \"projects/servir-e-sa/rangelands/reNDVI\""
   ]
  },
  {
   "cell_type": "code",
   "execution_count": null,
   "metadata": {},
   "outputs": [],
   "source": [
    "# change the bounding box coordinates to the region for export\n",
    "# coordinates should be W,S,E,N\n",
    "# the following is the bounding box for Kenya\n",
    "bbox = [33,-5,42,6]"
   ]
  },
  {
   "cell_type": "code",
   "execution_count": null,
   "metadata": {},
   "outputs": [],
   "source": [
    "# change the data contact to the individual responsible for \n",
    "# managing the data\n",
    "data_contact = \"username@nasa.gov\""
   ]
  },
  {
   "cell_type": "code",
   "execution_count": null,
   "metadata": {},
   "outputs": [],
   "source": [
    "# change the name of the data name prefix (optional)\n",
    "data_prefix = \"MOD_reNDVI\""
   ]
  },
  {
   "cell_type": "code",
   "execution_count": null,
   "metadata": {},
   "outputs": [],
   "source": [
    "# change to the version/release number of interest (optional)\n",
    "version_number = 0"
   ]
  },
  {
   "cell_type": "code",
   "execution_count": null,
   "metadata": {},
   "outputs": [],
   "source": [
    "# create metadata and pyramiding policies for the data\n",
    "metadataDict = dict(contact=data_contact,scale=0.0001,offset=0,version=version_number)\n",
    "pyramidingDict = dict(ndvi_mean=\"mean\",ndvi_std=\"mean\",count=\"mode\")\n",
    "exportRegion = ee.Geometry.Rectangle(bbox,'epsg:4326',False)"
   ]
  },
  {
   "cell_type": "code",
   "execution_count": null,
   "metadata": {},
   "outputs": [],
   "source": [
    "# create metadata and pyramiding policies for the data\n",
    "exportRegion = ee.Geometry.Rectangle(bbox,'epsg:4326',False)\n",
    "metadataDict = dict(contact=data_contact,ndviScale=0.0001,otherScale=0.01,offset=0,version=version_number,creationDate=datetime.datetime.now().strftime(\"%Y-%m-%d %H:%M:%s\"),\"status\":\"provisional\")\n",
    "pyramidingDict = {'.default':\"mean\",'despiked':'mode','climatologyFilled':'mode','temporalFilled':'mode','spatialSmoothed':'mode'}"
   ]
  },
  {
   "cell_type": "code",
   "execution_count": null,
   "metadata": {},
   "outputs": [],
   "source": [
    "rendvi.batchExport(outputs, \n",
    "                   exportRegion, \n",
    "                   exportAsset, \n",
    "                   prefix=\"MOD_reNDVI\", \n",
    "                   suffix=\"v0\", \n",
    "                   scale=250, \n",
    "                   crs='EPSG:4326',\n",
    "                   metadata=metadataDict, \n",
    "                   pyramiding=pyramidingDict\n",
    "                  )"
   ]
  },
  {
   "cell_type": "code",
   "execution_count": null,
   "metadata": {},
   "outputs": [],
   "source": []
  }
 ],
 "metadata": {
  "kernelspec": {
   "display_name": "Python (rendvi)",
   "language": "python",
   "name": "rendvi"
  },
  "language_info": {
   "codemirror_mode": {
    "name": "ipython",
    "version": 3
   },
   "file_extension": ".py",
   "mimetype": "text/x-python",
   "name": "python",
   "nbconvert_exporter": "python",
   "pygments_lexer": "ipython3",
   "version": "3.9.12"
  }
 },
 "nbformat": 4,
 "nbformat_minor": 4
}
