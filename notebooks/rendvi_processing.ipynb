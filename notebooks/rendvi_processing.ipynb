{
 "cells": [
  {
   "cell_type": "code",
   "execution_count": null,
   "metadata": {},
   "outputs": [],
   "source": [
    "import datetime\n",
    "import pandas as pd\n",
    "from pprint import pprint\n",
    "from sidecar import Sidecar\n",
    "from ipyleaflet import Map, basemaps, DrawControl, WMSLayer, LayersControl\n",
    "\n",
    "%pylab inline"
   ]
  },
  {
   "cell_type": "code",
   "execution_count": null,
   "metadata": {},
   "outputs": [],
   "source": [
    "# Define a method for displaying Earth Engine image tiles to folium map.\n",
    "def add_ee_layer(self,eeImageObject, visParams, name):\n",
    "    mapID = ee.Image(eeImageObject).getMapId(visParams)\n",
    "    tiles = WMSLayer(\n",
    "    url = \"https://earthengine.googleapis.com/map/{mapid}/{{z}}/{{x}}/{{y}}?token={token}\".format(**mapID),\n",
    "    attribution=\"<a href=’https://earthengine.google.com’>Google Earth Engine</a>\",\n",
    "    name = name,\n",
    "    )\n",
    "    self.add_layer(tiles)\n",
    "    \n",
    "Map.add_ee_layer = add_ee_layer"
   ]
  },
  {
   "cell_type": "code",
   "execution_count": null,
   "metadata": {},
   "outputs": [],
   "source": [
    "m = Map(center=(0,35),zoom=8,basemap=basemaps.CartoDB.DarkMatter)\n",
    "m.scroll_wheel_zoom = True\n",
    "\n",
    "draw_control = DrawControl()\n",
    "draw_control.polygon = {\n",
    "    \"shapeOptions\": {\n",
    "        \"fillColor\": \"#6be5c3\",\n",
    "        \"color\": \"#6be5c3\",\n",
    "        \"fillOpacity\": 1.0\n",
    "    },\n",
    "    \"drawError\": {\n",
    "        \"color\": \"#dd253b\",\n",
    "        \"message\": \"I'm sorry Dave, I'm afraid I can't do that\"\n",
    "    },\n",
    "    \"allowIntersection\": False\n",
    "}\n",
    "draw_control.circle = {\n",
    "    \"shapeOptions\": {\n",
    "        \"fillColor\": \"#efed69\",\n",
    "        \"color\": \"#efed69\",\n",
    "        \"fillOpacity\": 1.0\n",
    "    }\n",
    "}\n",
    "draw_control.rectangle = {\n",
    "    \"shapeOptions\": {\n",
    "        \"fillColor\": \"#fca45d\",\n",
    "        \"color\": \"#fca45d\",\n",
    "        \"fillOpacity\": 1.0\n",
    "    }\n",
    "}\n",
    "\n",
    "m.add_control(draw_control)\n",
    "\n",
    "m.add_control(LayersControl(position='topright'))"
   ]
  },
  {
   "cell_type": "code",
   "execution_count": null,
   "metadata": {},
   "outputs": [],
   "source": [
    "sc = Sidecar(title='EE Map')\n",
    "\n",
    "with sc:\n",
    "    display(m)"
   ]
  },
  {
   "cell_type": "code",
   "execution_count": null,
   "metadata": {},
   "outputs": [],
   "source": [
    "import ee\n",
    "ee.Initialize()\n",
    "import rendvi"
   ]
  },
  {
   "cell_type": "code",
   "execution_count": null,
   "metadata": {},
   "outputs": [],
   "source": [
    "mod = rendvi.COLLECTIONS['MOD09GQ']['dataset']\n",
    "mod1km = rendvi.COLLECTIONS['MOD09GA']['dataset']"
   ]
  },
  {
   "cell_type": "code",
   "execution_count": null,
   "metadata": {},
   "outputs": [],
   "source": [
    "masked = rendvi.Masking.applyModis(mod,mod1km)\n",
    "withNdvi = rendvi.Utils.addNDBand(masked,\n",
    "                                   b1=rendvi.COLLECTIONS['MOD09GQ']['nir'],\n",
    "                                   b2=rendvi.COLLECTIONS['MOD09GQ']['red'],\n",
    "                                   outName='ndvi')"
   ]
  },
  {
   "cell_type": "code",
   "execution_count": null,
   "metadata": {},
   "outputs": [],
   "source": [
    "comp = ee.Image(withNdvi.first())\n",
    "\n",
    "m.add_ee_layer(comp,{'bands':\"ndvi\",'min':-0.2,'max':1,'palette':'gray,beige,green,darkgreen'},'NDVI')"
   ]
  },
  {
   "cell_type": "code",
   "execution_count": null,
   "metadata": {},
   "outputs": [],
   "source": [
    "# time information to handle image collection\n",
    "iniYear = 2000\n",
    "endYear = 2019\n",
    "\n",
    "today = ee.Date(datetime.datetime.now().strftime('%Y-%m-%d')).advance(-7,'day')\n",
    "\n",
    "# convert start and end dates to EE date objects\n",
    "eeIni = ee.Date.fromYMD(iniYear,1,1,)\n",
    "eeEnd = ee.Date.fromYMD(endYear,12,31)\n",
    "\n",
    "# make list of years for loop processing\n",
    "years = ee.List.sequence(iniYear,endYear)"
   ]
  },
  {
   "cell_type": "code",
   "execution_count": null,
   "metadata": {},
   "outputs": [],
   "source": [
    "full = rendvi.Processing(withNdvi,'ndvi')"
   ]
  },
  {
   "cell_type": "code",
   "execution_count": null,
   "metadata": {},
   "outputs": [],
   "source": [
    "dekads = full.getDekadImages(years)"
   ]
  },
  {
   "cell_type": "code",
   "execution_count": null,
   "metadata": {},
   "outputs": [],
   "source": [
    "despiked = dekads.applyDespike(window=30,step=10)\n",
    "\n",
    "x = ee.Image(despiked.IC.first()).reproject(ee.Projection('epsg:4326').atScale(250))\n",
    "m.add_ee_layer(x,{'bands':\"ndvi\",'min':-0.2,'max':1,'palette':'gray,beige,green,darkgreen'},'Despiked')"
   ]
  },
  {
   "cell_type": "code",
   "execution_count": null,
   "metadata": {},
   "outputs": [],
   "source": [
    "climo = despiked.calcClimatology()\n",
    "\n",
    "climo = climo.map(lambda x: x.divide(10000).set('system:time_start',x.get('system:time_start')))"
   ]
  },
  {
   "cell_type": "code",
   "execution_count": null,
   "metadata": {},
   "outputs": [],
   "source": [
    "backFilled = despiked.climatologyBackFill(climo)\n",
    "\n",
    "x = ee.Image(backFilled.imageCollection.first()).reproject(ee.Projection('epsg:4326').atScale(250))\n",
    "m.add_ee_layer(x,{'bands':\"ndvi\",'min':-0.2,'max':1,'palette':'gray,beige,green,darkgreen'},'Back filled')"
   ]
  },
  {
   "cell_type": "code",
   "execution_count": null,
   "metadata": {},
   "outputs": [],
   "source": [
    "smoothed = backFilled.applySmoothing(window=30)"
   ]
  },
  {
   "cell_type": "code",
   "execution_count": null,
   "metadata": {},
   "outputs": [],
   "source": [
    "final = ee.Image(smoothed.imageCollection.first())\n",
    "\n",
    "m.add_ee_layer(final,{'bands':\"ndvi\",'min':-0.2,'max':1,'palette':'Gray,beige,green,darkgreen'},'Smoothed')"
   ]
  },
  {
   "cell_type": "code",
   "execution_count": null,
   "metadata": {},
   "outputs": [],
   "source": [
    "# geo = ee.Geometry.Point([35,0])\n",
    "\n",
    "# x = final.filterDate(\"2017-01-01\",\"2018-02-01\").getRegion(geo,250).getInfo()"
   ]
  },
  {
   "cell_type": "code",
   "execution_count": null,
   "metadata": {},
   "outputs": [],
   "source": [
    "# df = pd.DataFrame(x[1:])\n",
    "# df.columns = x[0]\n"
   ]
  },
  {
   "cell_type": "code",
   "execution_count": null,
   "metadata": {},
   "outputs": [],
   "source": [
    "# df.head()"
   ]
  },
  {
   "cell_type": "code",
   "execution_count": null,
   "metadata": {},
   "outputs": [],
   "source": [
    "# x.getInfo()"
   ]
  },
  {
   "cell_type": "code",
   "execution_count": null,
   "metadata": {},
   "outputs": [],
   "source": [
    "exportRegion = ee.Geometry.Rectangle([-180,-60,180,85],'epsg:4326',False)"
   ]
  },
  {
   "cell_type": "code",
   "execution_count": null,
   "metadata": {},
   "outputs": [],
   "source": [
    "!earthengine --no-use_cloud_api task list"
   ]
  },
  {
   "cell_type": "code",
   "execution_count": null,
   "metadata": {},
   "outputs": [],
   "source": []
  }
 ],
 "metadata": {
  "kernelspec": {
   "display_name": "Python (geo)",
   "language": "python",
   "name": "geo"
  },
  "language_info": {
   "codemirror_mode": {
    "name": "ipython",
    "version": 3
   },
   "file_extension": ".py",
   "mimetype": "text/x-python",
   "name": "python",
   "nbconvert_exporter": "python",
   "pygments_lexer": "ipython3",
   "version": "3.7.3"
  }
 },
 "nbformat": 4,
 "nbformat_minor": 4
}
